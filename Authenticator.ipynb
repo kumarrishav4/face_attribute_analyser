import hashlib
import os

class Authenticator:
    def __init__(self):
        # Store users in a dictionary where the key is the username
        # and the value is a tuple (salt, hashed_password)
        self.users = {}

    def hash_password(self, password, salt):
        """Hash a password with a given salt using SHA-256"""
        return hashlib.sha256(salt.encode() + password.encode()).hexdigest()

    def register(self, username, password):
        """Register a new user with a username and password"""
        if username in self.users:
            raise ValueError("Username already exists")

        # Create a salt and hash the password with the salt
        salt = os.urandom(16).hex()
        hashed_password = self.hash_password(password, salt)

        # Store the salt and hashed password
        self.users[username] = (salt, hashed_password)
        print(f"User {username} registered successfully.")

    def login(self, username, password):
        """Login a user by checking if the credentials are correct"""
        if username not in self.users:
            raise ValueError("Invalid username or password")

        salt, stored_hashed_password = self.users[username]
        provided_hashed_password = self.hash_password(password, salt)

        # Compare the stored hash with the provided hash
        if provided_hashed_password == stored_hashed_password:
            print(f"User {username} logged in successfully.")
            return True
        else:
            raise ValueError("Invalid username or password")

# Example usage:
auth = Authenticator()

# Register a user
auth.register('john_doe', 'password123')

# Attempt login
try:
    auth.login('john_doe', 'password123')  # Successful login
except ValueError as e:
    print(e)

try:
    auth.login('john_doe', 'wrongpassword')  # Failed login
except ValueError as e:
    print(e)
